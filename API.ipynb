{
 "cells": [
  {
   "cell_type": "code",
   "execution_count": 1,
   "id": "e81fca7e",
   "metadata": {},
   "outputs": [],
   "source": [
    "import openai"
   ]
  },
  {
   "cell_type": "code",
   "execution_count": 2,
   "id": "96d69988",
   "metadata": {},
   "outputs": [],
   "source": [
    "openai.api_key = 'Enter Key'\n"
   ]
  },
  {
   "cell_type": "code",
   "execution_count": 3,
   "id": "3e138275",
   "metadata": {},
   "outputs": [],
   "source": [
    "def get_gpt_response(prompt, max_tokens = 200): \n",
    "    prompt = f\" Answer the following question: {prompt}\\nAnswer:\"\n",
    "    response = openai.Completion.create( \n",
    "        engine = \"text-davinci-003\", \n",
    "        prompt = prompt,\n",
    "        max_tokens=500, \n",
    "        n=1, \n",
    "        temperature = 0.7)\n",
    "    return response. choices[0].text.strip()"
   ]
  },
  {
   "cell_type": "code",
   "execution_count": 5,
   "id": "b800ea3f",
   "metadata": {},
   "outputs": [
    {
     "name": "stdout",
     "output_type": "stream",
     "text": [
      "Application Programming Interface (API) is a set of programming instructions and standards for accessing a web-based software application or web tool. APIs are typically used to request and retrieve data from a database or to create, update, and delete records in a database.\n"
     ]
    }
   ],
   "source": [
    "prompt = \"what is api\" \n",
    "response = get_gpt_response(prompt)\n",
    "print(response)"
   ]
  },
  {
   "cell_type": "code",
   "execution_count": 7,
   "id": "632feab0",
   "metadata": {},
   "outputs": [
    {
     "name": "stdout",
     "output_type": "stream",
     "text": [
      "The following code can be used to impute missing values using the median:\n",
      "\n",
      "#import necessary libraries\n",
      "import numpy as np\n",
      "\n",
      "#read in the dataset\n",
      "data = pd.read_csv('mydata.csv')\n",
      "\n",
      "#calculate the median of the data\n",
      "median = np.median(data)\n",
      "\n",
      "#impute the missing values with the median\n",
      "data.fillna(median, inplace=True)\n"
     ]
    }
   ],
   "source": [
    "prompt = \"I have a dataset with missing values, and I want to impute them using the median. Could you please provide me with the code to perform this imputation using the median?\" \n",
    "response = get_gpt_response(prompt)\n",
    "print(response)"
   ]
  }
 ],
 "metadata": {
  "kernelspec": {
   "display_name": "Python 3 (ipykernel)",
   "language": "python",
   "name": "python3"
  },
  "language_info": {
   "codemirror_mode": {
    "name": "ipython",
    "version": 3
   },
   "file_extension": ".py",
   "mimetype": "text/x-python",
   "name": "python",
   "nbconvert_exporter": "python",
   "pygments_lexer": "ipython3",
   "version": "3.11.0"
  }
 },
 "nbformat": 4,
 "nbformat_minor": 5
}
